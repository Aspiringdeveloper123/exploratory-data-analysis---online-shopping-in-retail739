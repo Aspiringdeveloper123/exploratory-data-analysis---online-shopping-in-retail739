{
 "cells": [
  {
   "cell_type": "code",
   "execution_count": null,
   "metadata": {},
   "outputs": [],
   "source": [
    "# Milestone 3 EDA process\n",
    "\n",
    "    loaded_df.info()\n",
    "\n",
    "\n",
    "\n",
    "# Administrative\n",
    "    print(f\"Percentage of nulls: {loaded_df['informational'].isnull().sum()/len(loaded_df)}\")\n",
    "    loaded_df['informational'].value_counts()\n",
    "\n",
    " "
   ]
  }
 ],
 "metadata": {
  "language_info": {
   "name": "python"
  }
 },
 "nbformat": 4,
 "nbformat_minor": 2
}
