{
 "cells": [
  {
   "cell_type": "markdown",
   "metadata": {},
   "source": [
    "# EDA on Customer Activity Data"
   ]
  },
  {
   "cell_type": "markdown",
   "metadata": {},
   "source": [
    "### This notebook will focus on the Exploratory Data Analysis of the Customer Activity Dataset"
   ]
  },
  {
   "cell_type": "markdown",
   "metadata": {},
   "source": [
    "## Necessary Imports"
   ]
  },
  {
   "cell_type": "code",
   "execution_count": 1,
   "metadata": {},
   "outputs": [],
   "source": [
    "import pandas as pandas\n",
    "import numpy as np\n",
    "import yaml\n",
    "from sqlalchemy import create_engine\n",
    "from db_utils import RDSDatabaseConnector\n",
    "from transformations import DataTransform, DataFrameInfo"
   ]
  },
  {
   "cell_type": "markdown",
   "metadata": {},
   "source": [
    "## Loading in the dataset and connecting to the database"
   ]
  },
  {
   "cell_type": "markdown",
   "metadata": {},
   "source": [
    "The customer_activity_data csv file extracted from the AWS RDS was previously extracted and saved locally. This is now loaded in as a pandas dataframe to allow use of EDA techniques."
   ]
  },
  {
   "cell_type": "code",
   "execution_count": 2,
   "metadata": {},
   "outputs": [],
   "source": [
    "def loads_credentials():\n",
    "    with open('credentials.yaml', 'r') as file:\n",
    "     credentials = yaml.safe_load(file)\n",
    "    return credentials\n",
    "\n",
    "credentials = loads_credentials()\n",
    "connector = RDSDatabaseConnector(credentials)"
   ]
  },
  {
   "cell_type": "markdown",
   "metadata": {},
   "source": [
    "## Extract the data"
   ]
  },
  {
   "cell_type": "code",
   "execution_count": 3,
   "metadata": {},
   "outputs": [
    {
     "name": "stdout",
     "output_type": "stream",
     "text": [
      "Data extracted successfully\n",
      "   administrative  administrative_duration  informational  \\\n",
      "0             0.0                      0.0              0   \n",
      "1             0.0                      0.0              0   \n",
      "2             2.0                     99.4              0   \n",
      "3             0.0                      0.0              0   \n",
      "4             0.0                      0.0              0   \n",
      "\n",
      "   informational_duration  product_related  product_related_duration  \\\n",
      "0                     0.0              4.0                       0.0   \n",
      "1                     0.0             26.0                     876.0   \n",
      "2                     0.0             19.0                     368.0   \n",
      "3                     0.0             20.0                    1432.0   \n",
      "4                     0.0             33.0                     694.0   \n",
      "\n",
      "   bounce_rates  exit_rates  page_values month operating_systems  \\\n",
      "0        0.2000       0.200          0.0   May           Android   \n",
      "1        0.0000       0.026          0.0   Nov           Windows   \n",
      "2        0.0396       0.052          0.0   Sep           Windows   \n",
      "3        0.0248       0.028          1.8   Dec           Windows   \n",
      "4        0.0141       0.032          0.0   May           Android   \n",
      "\n",
      "         browser          region   traffic_type       visitor_type  weekend  \\\n",
      "0  Google Chrome   North America        Twitter  Returning_Visitor    False   \n",
      "1  Google Chrome  Western Europe  Google search  Returning_Visitor     True   \n",
      "2  Google Chrome            Asia        Twitter  Returning_Visitor    False   \n",
      "3  Google Chrome  Western Europe  Instagram ads  Returning_Visitor    False   \n",
      "4  Google Chrome   North America  Instagram ads  Returning_Visitor    False   \n",
      "\n",
      "   revenue  \n",
      "0    False  \n",
      "1    False  \n",
      "2    False  \n",
      "3     True  \n",
      "4    False  \n"
     ]
    }
   ],
   "source": [
    "df = connector.extract_data()\n",
    "print(\"Data extracted successfully\")\n",
    "print(df.head())"
   ]
  },
  {
   "cell_type": "markdown",
   "metadata": {},
   "source": [
    "## Save the data to a CSV file"
   ]
  },
  {
   "cell_type": "code",
   "execution_count": 4,
   "metadata": {},
   "outputs": [
    {
     "name": "stdout",
     "output_type": "stream",
     "text": [
      "Data saved to customer_activity_data.csv\n"
     ]
    }
   ],
   "source": [
    "file_path = 'customer_activity_data.csv'\n",
    "connector._save_date(df, file_path )\n",
    "print(f\"Data saved to {file_path}\")"
   ]
  },
  {
   "cell_type": "markdown",
   "metadata": {},
   "source": [
    "## Load the Dataframe from your local machine into a Pandas dataframe"
   ]
  },
  {
   "cell_type": "code",
   "execution_count": 5,
   "metadata": {},
   "outputs": [
    {
     "name": "stdout",
     "output_type": "stream",
     "text": [
      "Data loaded from CSV successfully\n",
      "   administrative  administrative_duration  informational  \\\n",
      "0             0.0                      0.0              0   \n",
      "1             0.0                      0.0              0   \n",
      "2             2.0                     99.4              0   \n",
      "3             0.0                      0.0              0   \n",
      "4             0.0                      0.0              0   \n",
      "\n",
      "   informational_duration  product_related  product_related_duration  \\\n",
      "0                     0.0              4.0                       0.0   \n",
      "1                     0.0             26.0                     876.0   \n",
      "2                     0.0             19.0                     368.0   \n",
      "3                     0.0             20.0                    1432.0   \n",
      "4                     0.0             33.0                     694.0   \n",
      "\n",
      "   bounce_rates  exit_rates  page_values month operating_systems  \\\n",
      "0        0.2000       0.200          0.0   May           Android   \n",
      "1        0.0000       0.026          0.0   Nov           Windows   \n",
      "2        0.0396       0.052          0.0   Sep           Windows   \n",
      "3        0.0248       0.028          1.8   Dec           Windows   \n",
      "4        0.0141       0.032          0.0   May           Android   \n",
      "\n",
      "         browser          region   traffic_type       visitor_type  weekend  \\\n",
      "0  Google Chrome   North America        Twitter  Returning_Visitor    False   \n",
      "1  Google Chrome  Western Europe  Google search  Returning_Visitor     True   \n",
      "2  Google Chrome            Asia        Twitter  Returning_Visitor    False   \n",
      "3  Google Chrome  Western Europe  Instagram ads  Returning_Visitor    False   \n",
      "4  Google Chrome   North America  Instagram ads  Returning_Visitor    False   \n",
      "\n",
      "   revenue  \n",
      "0    False  \n",
      "1    False  \n",
      "2    False  \n",
      "3     True  \n",
      "4    False  \n"
     ]
    }
   ],
   "source": [
    "loaded_df = connector._load_data(file_path)\n",
    "print(\"Data loaded from CSV successfully\")\n",
    "print(loaded_df.head())"
   ]
  },
  {
   "cell_type": "markdown",
   "metadata": {},
   "source": [
    "## Initialise DataTransform and DataFrameInfo and apply transformations"
   ]
  },
  {
   "cell_type": "code",
   "execution_count": 6,
   "metadata": {},
   "outputs": [
    {
     "name": "stdout",
     "output_type": "stream",
     "text": [
      "Columns converted to categorical\n",
      "Describing columns:\n",
      "<class 'pandas.core.frame.DataFrame'>\n",
      "RangeIndex: 12330 entries, 0 to 12329\n",
      "Data columns (total 17 columns):\n",
      " #   Column                    Non-Null Count  Dtype   \n",
      "---  ------                    --------------  -----   \n",
      " 0   administrative            11760 non-null  category\n",
      " 1   administrative_duration   11418 non-null  float64 \n",
      " 2   informational             12330 non-null  category\n",
      " 3   informational_duration    11994 non-null  float64 \n",
      " 4   product_related           11751 non-null  category\n",
      " 5   product_related_duration  12129 non-null  float64 \n",
      " 6   bounce_rates              12330 non-null  float64 \n",
      " 7   exit_rates                12330 non-null  float64 \n",
      " 8   page_values               12330 non-null  float64 \n",
      " 9   month                     12330 non-null  object  \n",
      " 10  operating_systems         12319 non-null  object  \n",
      " 11  browser                   12330 non-null  object  \n",
      " 12  region                    12330 non-null  object  \n",
      " 13  traffic_type              12330 non-null  object  \n",
      " 14  visitor_type              12330 non-null  object  \n",
      " 15  weekend                   12330 non-null  bool    \n",
      " 16  revenue                   12330 non-null  bool    \n",
      "dtypes: bool(2), category(3), float64(6), object(6)\n",
      "memory usage: 1.2+ MB\n",
      "None\n",
      "Display statistics:\n",
      "{'Mean': {'administrative_duration': 84.53907895798476, 'informational_duration': 34.4866873744639, 'product_related_duration': 1192.426086239591, 'bounce_rates': 0.02238113544201135, 'exit_rates': 0.042820032441200334, 'page_values': 5.5563098134630975}, 'Std': {'administrative_duration': 179.39248509714912, 'informational_duration': 136.2015566492895, 'product_related_duration': 1767.2438017099532, 'bounce_rates': 0.04884718317455196, 'exit_rates': 0.04857781230984668, 'page_values': 17.397345496091262}, 'Median': {'administrative_duration': 6.0, 'informational_duration': 0.0, 'product_related_duration': 586.0, 'bounce_rates': 0.0035, 'exit_rates': 0.025, 'page_values': 0.0}}\n",
      "Count distinct values in categorical columns:\n",
      "([0.0, 2.0, 1.0, 3.0, 4.0, nan, 6.0, 7.0, 12.0, 5.0, 11.0, 9.0, 16.0, 8.0, 14.0, 10.0, 13.0, 18.0, 23.0, 15.0, 17.0, 21.0, 19.0, 20.0, 24.0, 0, 4, 2, 5, 1, 3, 6, 9, 11, 7, 8, 12, 10, 4.0, 26.0, 19.0, 20.0, 33.0, 29.0, 11.0, nan, 3.0, 1.0, 57.0, 42.0, 27.0, 13.0, 34.0, 7.0, 59.0, 41.0, 14.0, 23.0, 36.0, 2.0, 25.0, 30.0, 8.0, 37.0, 10.0, 45.0, 21.0, 16.0, 9.0, 12.0, 210.0, 24.0, 62.0, 50.0, 40.0, 5.0, 70.0, 38.0, 31.0, 48.0, 113.0, 44.0, 53.0, 6.0, 18.0, 15.0, 110.0, 22.0, 155.0, 28.0, 362.0, 47.0, 259.0, 69.0, 32.0, 129.0, 54.0, 167.0, 123.0, 154.0, 111.0, 43.0, 17.0, 150.0, 96.0, 186.0, 182.0, 75.0, 35.0, 60.0, 239.0, 46.0, 39.0, 77.0, 135.0, 169.0, 80.0, 142.0, 0.0, 220.0, 201.0, 84.0, 49.0, 89.0, 56.0, 58.0, 136.0, 130.0, 71.0, 244.0, 88.0, 101.0, 105.0, 65.0, 74.0, 67.0, 151.0, 86.0, 51.0, 109.0, 64.0, 126.0, 94.0, 149.0, 63.0, 52.0, 230.0, 81.0, 116.0, 257.0, 222.0, 207.0, 117.0, 176.0, 55.0, 83.0, 139.0, 85.0, 140.0, 91.0, 107.0, 124.0, 276.0, 127.0, 76.0, 108.0, 99.0, 102.0, 128.0, 161.0, 225.0, 100.0, 119.0, 466.0, 90.0, 131.0, 144.0, 147.0, 233.0, 72.0, 92.0, 267.0, 317.0, 97.0, 237.0, 87.0, 218.0, 134.0, 157.0, 118.0, 214.0, 78.0, 300.0, 61.0, 93.0, 191.0, 216.0, 189.0, 148.0, 112.0, 68.0, 255.0, 79.0, 66.0, 270.0, 146.0, 82.0, 171.0, 133.0, 95.0, 120.0, 196.0, 306.0, 104.0, 125.0, 227.0, 287.0, 170.0, 247.0, 282.0, 106.0, 330.0, 217.0, 228.0, 98.0, 115.0, 73.0, 187.0, 172.0, 137.0, 132.0, 213.0, 269.0, 183.0, 211.0, 336.0, 332.0, 173.0, 164.0, 231.0, 121.0, 179.0, 153.0, 103.0, 307.0, 122.0, 375.0, 114.0, 204.0, 260.0, 156.0, 141.0, 367.0, 177.0, 138.0, 159.0, 249.0, 152.0, 194.0, 197.0, 272.0, 279.0, 185.0, 209.0, 199.0, 252.0, 311.0, 304.0, 238.0, 168.0, 338.0, 175.0, 180.0, 202.0, 245.0, 158.0, 221.0, 242.0, 481.0, 301.0, 178.0, 258.0, 193.0, 165.0, 331.0, 145.0, 174.0, 254.0, 319.0, 232.0, 212.0, 223.0, 265.0, 162.0, 308.0, 329.0, 251.0, 188.0, 274.0, 240.0, 359.0, 192.0, 143.0, 303.0, 234.0, 310.0, 264.0, 160.0, 472.0, 166.0, 198.0, 377.0, 241.0, 195.0, 235.0, 405.0, 184.0, 181.0, 291.0, 368.0, 485.0, 326.0, 203.0, 293.0, 206.0, 266.0, 278.0, 320.0, 388.0, 334.0, 410.0, 305.0, 350.0, 318.0, 436.0, 'May', 'Nov', 'Sep', 'Dec', 'Mar', 'June', 'Aug', 'Oct', 'Jul', 'Feb', 'Android', 'Windows', 'MACOS', 'ChromeOS', 'iOS', 'Ubuntu', nan, 'Other', 'Google Chrome', 'Safari', 'Microsoft Edge', 'Mozilla Firefox', 'Samsung Internet', 'Sogou Explorer', 'Opera', 'Yandex', 'QQ', 'Internet Explorer', 'Android', 'UC Browser', 'Undetermined', 'North America', 'Western Europe', 'Asia', 'South America', 'Northern Africa', 'Southern Africa', 'Africa', 'Eastern Europe', 'Oceania', 'Twitter', 'Google search', 'Instagram ads', 'Youtube channel', 'Instagram Page', 'Affiliate marketing', 'Facebook ads', 'Youtube ads', 'Tik Tok ads', 'Bing search', 'Direct Traffic', 'Newsletter', 'Other', 'Yahoo Search', 'Pinterest', 'Yandex search', 'Tik Tok page', 'Facebook page', 'DuckDuckGo search', 'Returning_Visitor', 'New_Visitor', 'Other', False, True, False, True], [('administrative', 25), ('informational', 13), ('product_related', 297), ('month', 10), ('operating_systems', 8), ('browser', 13), ('region', 9), ('traffic_type', 19), ('visitor_type', 3), ('weekend', 2), ('revenue', 2)])\n",
      "Shape of the dataframe:\n",
      "(12330, 17)\n",
      "Percentage of nulls:\n",
      "Percentage of null values in each column:\n",
      "administrative              4.622871\n",
      "administrative_duration     7.396594\n",
      "informational               0.000000\n",
      "informational_duration      2.725061\n",
      "product_related             4.695864\n",
      "product_related_duration    1.630170\n",
      "bounce_rates                0.000000\n",
      "exit_rates                  0.000000\n",
      "page_values                 0.000000\n",
      "month                       0.000000\n",
      "operating_systems           0.089213\n",
      "browser                     0.000000\n",
      "region                      0.000000\n",
      "traffic_type                0.000000\n",
      "visitor_type                0.000000\n",
      "weekend                     0.000000\n",
      "revenue                     0.000000\n",
      "dtype: float64\n"
     ]
    }
   ],
   "source": [
    "transformer = DataTransform(loaded_df)\n",
    "transformer._convert_to_category()\n",
    "print(\"Columns converted to categorical\")\n",
    "\n",
    "info = DataFrameInfo(loaded_df)\n",
    "\n",
    "print(\"Describing columns:\")\n",
    "describe_columns = info._describe_columns()\n",
    "print(describe_columns)\n",
    "\n",
    "print(\"Display statistics:\")\n",
    "stats = info._extract_stats()\n",
    "print(stats)\n",
    "\n",
    "print(\"Count distinct values in categorical columns:\")\n",
    "distinct_values = info._count_distinct_values()\n",
    "print(distinct_values)\n",
    "\n",
    "print(\"Shape of the dataframe:\")\n",
    "shape_of_data = info._shape_of_df()\n",
    "print(shape_of_data)\n",
    "\n",
    "print(\"Percentage of nulls:\")\n",
    "nulls = info._count_nulls()\n",
    "print(nulls)\n",
    "\n",
    "\n"
   ]
  },
  {
   "cell_type": "markdown",
   "metadata": {},
   "source": [
    "## Nulls"
   ]
  }
 ],
 "metadata": {
  "kernelspec": {
   "display_name": "Python 3",
   "language": "python",
   "name": "python3"
  },
  "language_info": {
   "codemirror_mode": {
    "name": "ipython",
    "version": 3
   },
   "file_extension": ".py",
   "mimetype": "text/x-python",
   "name": "python",
   "nbconvert_exporter": "python",
   "pygments_lexer": "ipython3",
   "version": "3.12.4"
  }
 },
 "nbformat": 4,
 "nbformat_minor": 2
}
